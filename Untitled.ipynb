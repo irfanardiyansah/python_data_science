{
 "cells": [
  {
   "cell_type": "code",
   "execution_count": 1,
   "metadata": {},
   "outputs": [],
   "source": [
    "import pandas as pd\n",
    "import numpy as np"
   ]
  },
  {
   "cell_type": "code",
   "execution_count": 5,
   "metadata": {},
   "outputs": [
    {
     "name": "stdout",
     "output_type": "stream",
     "text": [
      "Series\n",
      "0    1\n",
      "1    2\n",
      "2    3\n",
      "3    4\n",
      "4    5\n",
      "5    6\n",
      "dtype: int64\n"
     ]
    }
   ],
   "source": [
    "# Series\n",
    "\n",
    "number_list = pd.Series([1,2,3,4,5,6,])\n",
    "print(\"Series\")\n",
    "print(number_list)"
   ]
  },
  {
   "cell_type": "code",
   "execution_count": 18,
   "metadata": {},
   "outputs": [
    {
     "name": "stdout",
     "output_type": "stream",
     "text": [
      "DataFrame\n",
      "   0  1  2\n",
      "0  1  2  3\n",
      "1  a  b  c\n",
      "2  3  4  5\n",
      "3  d  4  6\n"
     ]
    }
   ],
   "source": [
    "# DataFrame\n",
    "\n",
    "matrix = [[1,2,3],\n",
    "         ['a','b','c'],\n",
    "         [3,4,5],\n",
    "         ['d',4,6]]\n",
    "matrix_list = pd.DataFrame(matrix)\n",
    "print(\"DataFrame\")\n",
    "print(matrix_list)"
   ]
  },
  {
   "cell_type": "code",
   "execution_count": 19,
   "metadata": {},
   "outputs": [
    {
     "name": "stdout",
     "output_type": "stream",
     "text": [
      "<class 'pandas.core.frame.DataFrame'>\n",
      "RangeIndex: 4 entries, 0 to 3\n",
      "Data columns (total 3 columns):\n",
      " #   Column  Non-Null Count  Dtype \n",
      "---  ------  --------------  ----- \n",
      " 0   0       4 non-null      object\n",
      " 1   1       4 non-null      object\n",
      " 2   2       4 non-null      object\n",
      "dtypes: object(3)\n",
      "memory usage: 224.0+ bytes\n",
      "None\n"
     ]
    }
   ],
   "source": [
    "# attribute .info() : cek kolom yg membentuk dataframe itu, data types, berapa yg non null. (hanya dataframe)\n",
    "\n",
    "print(matrix_list.info())"
   ]
  },
  {
   "cell_type": "code",
   "execution_count": 13,
   "metadata": {},
   "outputs": [
    {
     "name": "stdout",
     "output_type": "stream",
     "text": [
      "Shape dari number_list: (6,)\n",
      "Shape dari matrix_list: (4, 3)\n"
     ]
    }
   ],
   "source": [
    "# attribute .shape() : cek baris dan kolom \n",
    "\n",
    "print(\"Shape dari number_list:\", number_list.shape)\n",
    "print(\"Shape dari matrix_list:\", matrix_list.shape)"
   ]
  },
  {
   "cell_type": "code",
   "execution_count": 14,
   "metadata": {},
   "outputs": [
    {
     "name": "stdout",
     "output_type": "stream",
     "text": [
      "Tipe data number_list: int64\n",
      "Tipe data matrix_list: 0    object\n",
      "1    object\n",
      "2    object\n",
      "dtype: object\n"
     ]
    }
   ],
   "source": [
    "# attribut .dtypes : cek tipe data di tiap kolom\n",
    "\n",
    "print(\"Tipe data number_list:\", number_list.dtypes)\n",
    "print(\"Tipe data matrix_list:\", matrix_list.dtypes)"
   ]
  },
  {
   "cell_type": "code",
   "execution_count": 15,
   "metadata": {},
   "outputs": [
    {
     "name": "stdout",
     "output_type": "stream",
     "text": [
      "konversi number_list ke str: 0    1\n",
      "1    2\n",
      "2    3\n",
      "3    4\n",
      "4    5\n",
      "5    6\n",
      "dtype: object\n",
      "Konversi matrix_list ke str:    0  1  2\n",
      "0  1  2  3\n",
      "1  a  b  c\n",
      "2  3  4  5\n",
      "3  d  4  6\n"
     ]
    }
   ],
   "source": [
    "# attribute .astype(nama_tipe_data) : convert tipe data berdasarkan tipe data (float, int, str, numpy.float, numpy.int, numpy.datetime)\n",
    "\n",
    "print(\"konversi number_list ke str:\", number_list.astype(\"str\"))\n",
    "print(\"Konversi matrix_list ke str:\", matrix_list.astype(\"str\"))"
   ]
  },
  {
   "cell_type": "code",
   "execution_count": 22,
   "metadata": {},
   "outputs": [
    {
     "name": "stdout",
     "output_type": "stream",
     "text": [
      "Copy number_list ke num_list: 0    1\n",
      "1    2\n",
      "2    3\n",
      "3    4\n",
      "4    5\n",
      "5    6\n",
      "dtype: int64\n",
      "Copy matrix_list ke mtr_list:    0  1  2\n",
      "0  1  2  3\n",
      "1  a  b  c\n",
      "2  3  4  5\n",
      "3  d  4  6\n"
     ]
    }
   ],
   "source": [
    "# attribute .copy : duplikat data disimpan di variabel berbeda\n",
    "\n",
    "num_list = number_list.copy()\n",
    "print(\"Copy number_list ke num_list:\", num_list)\n",
    "mtr_list = matrix_list.copy()\n",
    "print(\"Copy matrix_list ke mtr_list:\", mtr_list)"
   ]
  },
  {
   "cell_type": "code",
   "execution_count": 23,
   "metadata": {},
   "outputs": [
    {
     "name": "stdout",
     "output_type": "stream",
     "text": [
      "[1, 2, 3, 4, 5, 6]\n"
     ]
    }
   ],
   "source": [
    "# attrubute .to_list() : mengubah series menjadi list (hanya series)\n",
    "\n",
    "print(number_list.to_list())"
   ]
  },
  {
   "cell_type": "code",
   "execution_count": 24,
   "metadata": {},
   "outputs": [
    {
     "name": "stdout",
     "output_type": "stream",
     "text": [
      "[1 2 3 4 5 6]\n"
     ]
    }
   ],
   "source": [
    "# attribute .unique() : nilai uni di kolom, hasil numpy array (hanya series)\n",
    "\n",
    "print(number_list.unique())"
   ]
  },
  {
   "cell_type": "code",
   "execution_count": 25,
   "metadata": {},
   "outputs": [
    {
     "name": "stdout",
     "output_type": "stream",
     "text": [
      "Index number_list: RangeIndex(start=0, stop=6, step=1)\n",
      "Index matrix_list: RangeIndex(start=0, stop=4, step=1)\n"
     ]
    }
   ],
   "source": [
    "# attribute .index() : mencari index/key dari series/dataframe\n",
    "\n",
    "print(\"Index number_list:\", number_list.index)\n",
    "print(\"Index matrix_list:\", matrix_list.index)"
   ]
  },
  {
   "cell_type": "code",
   "execution_count": 26,
   "metadata": {},
   "outputs": [
    {
     "name": "stdout",
     "output_type": "stream",
     "text": [
      " Column matrix_list: RangeIndex(start=0, stop=3, step=1)\n"
     ]
    }
   ],
   "source": [
    "# attribute .columns : cek kolom yg tersedia di dataframe ( hanya dataframe)\n",
    "\n",
    "print(\" Column matrix_list:\", matrix_list.columns)"
   ]
  },
  {
   "cell_type": "code",
   "execution_count": 28,
   "metadata": {},
   "outputs": [
    {
     "name": "stdout",
     "output_type": "stream",
     "text": [
      ".loc[0:1] pada number_list: 0    1\n",
      "1    2\n",
      "dtype: int64\n",
      ".loc[0:1] pada matrix_list:    0  1  2\n",
      "0  1  2  3\n",
      "1  a  b  c\n"
     ]
    }
   ],
   "source": [
    "# attribute .loc : mengiris berdasarkan nama kolom/index kolom\n",
    "\n",
    "print(\".loc[0:1] pada number_list:\", number_list.loc[0:1])\n",
    "print(\".loc[0:1] pada matrix_list:\", matrix_list.loc[0:1])"
   ]
  },
  {
   "cell_type": "code",
   "execution_count": 30,
   "metadata": {},
   "outputs": [
    {
     "name": "stdout",
     "output_type": "stream",
     "text": [
      ".iloc[0:1] pada number_list: 0    1\n",
      "dtype: int64\n",
      ".iloc[0:1] pada matrix_list:    0  1  2\n",
      "0  1  2  3\n"
     ]
    }
   ],
   "source": [
    "# attribute .iloc : mengiris berdasarkan index kolom\n",
    "\n",
    "print(\".iloc[0:1] pada number_list:\", number_list.iloc[0:1])\n",
    "print(\".iloc[0:1] pada matrix_list:\", matrix_list.iloc[0:1])"
   ]
  },
  {
   "cell_type": "code",
   "execution_count": 43,
   "metadata": {},
   "outputs": [
    {
     "data": {
      "text/plain": [
       "<bound method IndexOpsMixin.tolist of 0    3\n",
       "1    c\n",
       "Name: 2, dtype: object>"
      ]
     },
     "execution_count": 43,
     "metadata": {},
     "output_type": "execute_result"
    }
   ],
   "source": [
    "matrix_list.iloc[0:2,2].to_list"
   ]
  },
  {
   "cell_type": "code",
   "execution_count": null,
   "metadata": {},
   "outputs": [],
   "source": [
    "Creating Series & Dataframe from List"
   ]
  },
  {
   "cell_type": "code",
   "execution_count": 46,
   "metadata": {},
   "outputs": [
    {
     "name": "stdout",
     "output_type": "stream",
     "text": [
      "0    a\n",
      "1    1\n",
      "2    3\n",
      "3    5\n",
      "4    c\n",
      "5    d\n",
      "dtype: object\n"
     ]
    }
   ],
   "source": [
    "# Create series from list\n",
    "ex_list = ['a',1,3,5,'c','d']\n",
    "ex_series = pd.Series(ex_list)\n",
    "print(ex_series)"
   ]
  },
  {
   "cell_type": "code",
   "execution_count": 47,
   "metadata": {},
   "outputs": [
    {
     "name": "stdout",
     "output_type": "stream",
     "text": [
      "     float char   obj char\n",
      "dq     1.0    a     b    c\n",
      "lab    2.5    d     e    f\n",
      "kar    5.0    g     h    i\n",
      "lan    7.5    j  10.5    l\n"
     ]
    }
   ],
   "source": [
    "# Creating dataframe from list of list\n",
    "ex_list_of_list = [[1, 'a','b','c'],\n",
    "                  [2.5,'d','e','f'],\n",
    "                  [5, 'g','h','i'],\n",
    "                  [7.5, 'j','10.5','l']]\n",
    "index = ['dq','lab','kar','lan']\n",
    "cols = ['float','char','obj','char']\n",
    "ex_df = pd.DataFrame(ex_list_of_list, index=index, columns=cols)\n",
    "print(ex_df)"
   ]
  },
  {
   "cell_type": "code",
   "execution_count": null,
   "metadata": {},
   "outputs": [],
   "source": [
    "Creating Series & Dataframe from Dictionary"
   ]
  },
  {
   "cell_type": "code",
   "execution_count": 48,
   "metadata": {},
   "outputs": [
    {
     "name": "stdout",
     "output_type": "stream",
     "text": [
      "1    a\n",
      "2    b\n",
      "3    c\n",
      "dtype: object\n"
     ]
    }
   ],
   "source": [
    "# Creating series from dictionary\n",
    "dict_series = {'1':'a', '2':'b', '3':'c'}\n",
    "ex_series = pd.Series(dict_series)\n",
    "print(ex_series)"
   ]
  },
  {
   "cell_type": "code",
   "execution_count": 53,
   "metadata": {},
   "outputs": [
    {
     "name": "stdout",
     "output_type": "stream",
     "text": [
      "   1  2  4\n",
      "0  a  b  2\n",
      "1  b  c  3\n",
      "2  c  d  z\n"
     ]
    }
   ],
   "source": [
    "# Creating dataframe from dictionary\n",
    "df_series = {'1':['a', 'b', 'c'],\n",
    "            '2':['b', 'c', 'd'],\n",
    "            '4':[2, 3, 'z']}\n",
    "ex_df = pd.DataFrame(df_series)\n",
    "print(ex_df)"
   ]
  },
  {
   "cell_type": "code",
   "execution_count": null,
   "metadata": {},
   "outputs": [],
   "source": [
    "Creating Series & Dataframe from Numpy Array"
   ]
  },
  {
   "cell_type": "code",
   "execution_count": 56,
   "metadata": {},
   "outputs": [
    {
     "name": "stdout",
     "output_type": "stream",
     "text": [
      "0    1\n",
      "1    2\n",
      "2    3\n",
      "3    4\n",
      "4    5\n",
      "5    6\n",
      "6    6\n",
      "7    7\n",
      "dtype: int32\n"
     ]
    }
   ],
   "source": [
    "# Creating series from numpy array 1D\n",
    "arr_series = np.array([1,2,3,4,5,6,6,7])\n",
    "ex_series = pd.Series(arr_series)\n",
    "print(ex_series)"
   ]
  },
  {
   "cell_type": "code",
   "execution_count": 57,
   "metadata": {},
   "outputs": [
    {
     "name": "stdout",
     "output_type": "stream",
     "text": [
      "   0  1  2   3\n",
      "0  1  2  3   5\n",
      "1  5  6  7   8\n",
      "2  a  b  c  10\n"
     ]
    }
   ],
   "source": [
    "# Creating dataframe from numpy array 2D\n",
    "arr_df = np.array([[1, 2, 3, 5],\n",
    "                  [5, 6, 7, 8],\n",
    "                  ['a', 'b', 'c', 10]])\n",
    "ex_df = pd.DataFrame(arr_df)\n",
    "print(ex_df)"
   ]
  },
  {
   "cell_type": "code",
   "execution_count": 60,
   "metadata": {},
   "outputs": [
    {
     "name": "stdout",
     "output_type": "stream",
     "text": [
      "    0   1  2   3\n",
      "0   1   2  3   5\n",
      "1   5   6  7   8\n",
      "2  11  12  c  10\n"
     ]
    }
   ],
   "source": [
    "# merubah data str menjadi angka misal 'a' menjadi 11, 'b' menjadi 12\n",
    "df = pd.DataFrame(arr_df)\n",
    "df.iloc[2,0:2] = [11,12]\n",
    "print(df)"
   ]
  },
  {
   "cell_type": "code",
   "execution_count": 63,
   "metadata": {},
   "outputs": [
    {
     "name": "stdout",
     "output_type": "stream",
     "text": [
      "   order_id  order_date  customer_id             city     province product_id  \\\n",
      "0   1612339  2019-01-01        18055  Jakarta Selatan  DKI Jakarta      P0648   \n",
      "1   1612339  2019-01-01        18055  Jakarta Selatan  DKI Jakarta      P3826   \n",
      "2   1612339  2019-01-01        18055  Jakarta Selatan  DKI Jakarta      P1508   \n",
      "3   1612339  2019-01-01        18055  Jakarta Selatan  DKI Jakarta      P0520   \n",
      "\n",
      "     brand  quantity  item_price  \n",
      "0  BRAND_C         4     1934000  \n",
      "1  BRAND_V         8      604000  \n",
      "2  BRAND_G        12      747000  \n",
      "3  BRAND_B        12      450000  \n"
     ]
    }
   ],
   "source": [
    "df_csv = pd.read_csv(\"sample_csv.csv\") # read csv\n",
    "print(df_csv.head(4))"
   ]
  },
  {
   "cell_type": "code",
   "execution_count": 64,
   "metadata": {},
   "outputs": [
    {
     "name": "stdout",
     "output_type": "stream",
     "text": [
      "   order_id  order_date  customer_id             city     province product_id  \\\n",
      "0   1612339  2019-01-01        18055  Jakarta Selatan  DKI Jakarta      P0648   \n",
      "1   1612339  2019-01-01        18055  Jakarta Selatan  DKI Jakarta      P3826   \n",
      "2   1612339  2019-01-01        18055  Jakarta Selatan  DKI Jakarta      P1508   \n",
      "3   1612339  2019-01-01        18055  Jakarta Selatan  DKI Jakarta      P0520   \n",
      "\n",
      "     brand  quantity  item_price  \n",
      "0  BRAND_C         4     1934000  \n",
      "1  BRAND_V         8      604000  \n",
      "2  BRAND_G        12      747000  \n",
      "3  BRAND_B        12      450000  \n"
     ]
    }
   ],
   "source": [
    "df_tsv = pd.read_csv(\"sample_tsv.tsv\", sep='\\t')  # read tsv (sep='\\t')\n",
    "print(df_tsv.head(4))"
   ]
  },
  {
   "cell_type": "code",
   "execution_count": 66,
   "metadata": {},
   "outputs": [
    {
     "name": "stdout",
     "output_type": "stream",
     "text": [
      "   order_id  order_date  customer_id             city     province product_id  \\\n",
      "0   1612339  2019-01-01        18055  Jakarta Selatan  DKI Jakarta      P0648   \n",
      "1   1612339  2019-01-01        18055  Jakarta Selatan  DKI Jakarta      P3826   \n",
      "2   1612339  2019-01-01        18055  Jakarta Selatan  DKI Jakarta      P1508   \n",
      "3   1612339  2019-01-01        18055  Jakarta Selatan  DKI Jakarta      P0520   \n",
      "\n",
      "     brand  quantity  item_price  \n",
      "0  BRAND_C         4     1934000  \n",
      "1  BRAND_V         8      604000  \n",
      "2  BRAND_G        12      747000  \n",
      "3  BRAND_B        12      450000  \n"
     ]
    }
   ],
   "source": [
    "df_excel = pd.read_excel(\"sample_excel.xlsx\", sheet_name=\"test\") # read excel\n",
    "print(df_excel.head(4))"
   ]
  },
  {
   "cell_type": "code",
   "execution_count": 68,
   "metadata": {},
   "outputs": [
    {
     "name": "stdout",
     "output_type": "stream",
     "text": [
      "                                                data          dt          ts\n",
      "0  {'location': 'US', 'confirmed': 3363056, 'deat...  07-14-2020  1594684800\n",
      "1  {'location': 'Brazil', 'confirmed': 1884967, '...  07-14-2020  1594684800\n",
      "2  {'location': 'India', 'confirmed': 906752, 'de...  07-14-2020  1594684800\n",
      "3  {'location': 'Russia', 'confirmed': 732547, 'd...  07-14-2020  1594684800\n",
      "4  {'location': 'Peru', 'confirmed': 330123, 'dea...  07-14-2020  1594684800\n",
      "5  {'location': 'Chile', 'confirmed': 317657, 'de...  07-14-2020  1594684800\n",
      "6  {'location': 'Mexico', 'confirmed': 304435, 'd...  07-14-2020  1594684800\n",
      "7  {'location': 'United Kingdom', 'confirmed': 29...  07-14-2020  1594684800\n",
      "8  {'location': 'South Africa', 'confirmed': 2877...  07-14-2020  1594684800\n",
      "9  {'location': 'Iran', 'confirmed': 259652, 'dea...  07-14-2020  1594684800\n"
     ]
    }
   ],
   "source": [
    "# read JSON\n",
    "url = \"https://storage.googleapis.com/dqlab-dataset/covid2019-api-herokuapp-v2.json\"\n",
    "df_json = pd.read_json(url)\n",
    "print(df_json.head(10))"
   ]
  },
  {
   "cell_type": "code",
   "execution_count": null,
   "metadata": {},
   "outputs": [],
   "source": [
    "# read SQL\n",
    "\n",
    "import mysql.connector\n",
    "import pandas as pd\n",
    "#membuat koneksi ke database financial di https://relational.fit.cvut.cz/dataset/Financial\n",
    "my_conn = mysql.connector.connect(host=\"relational.fit.cvut.cz\",\n",
    "                                 port=3306,\n",
    "                                 user=\"guest\",\n",
    "                                 passwd=\"relational\",\n",
    "                                 database=\"financial\",\n",
    "                                 use_pure=True)\n",
    "# buatlah query sql untuk membaca tabel loan\n",
    "my_query = \"\"\"\n",
    "select * from loan:\n",
    "\"\"\"\n",
    "\n",
    "# jika menggunakan .read_sql_query utk membaca tabel loan\n",
    "df_loan = pd.read_sql_query(my_query, my_conn)\n",
    "# tampilkan 5 data teratas\n",
    "df-loan.head()\n",
    "\n",
    "# jika menggunakan .read_sql\n",
    "df_loan = pd.read_sql(my_query, my_conn)\n",
    "# tampilkan 5 data teratas\n",
    "df_loan.head()"
   ]
  },
  {
   "cell_type": "code",
   "execution_count": null,
   "metadata": {},
   "outputs": [],
   "source": [
    "# read Google BigQuery - digunakan jika telah punya akun GBQ\n",
    "\n",
    "import pandas as pd\n",
    "# buat query\n",
    "query = \"\"\"\n",
    "select * from 'bigquery-public-data.covid19_jhu_csse_eu.summary' limit 1000;\n",
    "\"\"\"\n",
    "# baca data dari google big query\n",
    "df_covid19_eu_summary = pd.read_gbq(query, project_id=\"XXXXXXXX\")\n",
    "# tampilkan 5 data teratas\n",
    "df_covid19_eu_summary\n"
   ]
  },
  {
   "cell_type": "code",
   "execution_count": null,
   "metadata": {},
   "outputs": [],
   "source": [
    "Write Dataset\n",
    "setelah dilakukan data cleaning dataset yg sudah rapi tentunya disimpan terlebih dahulu ke dalam media penyimpanan"
   ]
  },
  {
   "cell_type": "code",
   "execution_count": null,
   "metadata": {},
   "outputs": [],
   "source": [
    ".to_csv() : digunakan untuk export dataframe kembali ke csv atau tsv\n",
    "\n",
    "df.to_csv(\"csv1.csv\", index=False)\n",
    "df.to_csv(\"tsv1.tsv\", index=False, sep='\\t')"
   ]
  },
  {
   "cell_type": "code",
   "execution_count": null,
   "metadata": {},
   "outputs": [],
   "source": [
    ".to_clopboard() : export dataframe menjadi bahan copy jadi nanti bisa tinggal klik paste di excel / google sheets\n",
    "\n",
    "df.to_clipboard()"
   ]
  },
  {
   "cell_type": "code",
   "execution_count": null,
   "metadata": {},
   "outputs": [],
   "source": [
    ".to_excel() : export dataframe menjadi file excel\n",
    "    \n",
    "df_excel.to_excel(\"xlsx1.xlsx\", index=False)"
   ]
  },
  {
   "cell_type": "code",
   "execution_count": null,
   "metadata": {},
   "outputs": [],
   "source": [
    ".to_gbq() : export dataframe menjadi table di google bigquery\n",
    "    \n",
    "df.to_gbq(\"temp.test\", project_id=\"XXXXX\", if_exists=\"fail\")\n",
    "temp: nama dataset\n",
    "test: nama table\n",
    "if_exists: ketika tabel dgn dataset.table_name yg sama sudah ada, apa action yg ingin dilakukan\n",
    "(\"fail\": tidak melakukan apa-apa,\n",
    "\"replace\": membuang tabel yg sudah ada dan mengganti yg baru\n",
    "\"append\": menambah baris di tabel tsb dgn data yg baru)"
   ]
  },
  {
   "cell_type": "code",
   "execution_count": null,
   "metadata": {},
   "outputs": [],
   "source": [
    "Indexing"
   ]
  },
  {
   "cell_type": "code",
   "execution_count": 72,
   "metadata": {},
   "outputs": [
    {
     "name": "stdout",
     "output_type": "stream",
     "text": [
      "Index: RangeIndex(start=0, stop=101, step=1)\n",
      "Columns: Index(['order_id', 'order_date', 'customer_id', 'city', 'province',\n",
      "       'product_id', 'brand', 'quantity', 'item_price'],\n",
      "      dtype='object')\n"
     ]
    }
   ],
   "source": [
    "import pandas as pd\n",
    "df = pd.read_csv(\"sample_tsv.tsv\", sep=\"\\t\")\n",
    "print(\"Index:\", df.index)   # single index\n",
    "print(\"Columns:\", df.columns)"
   ]
  },
  {
   "cell_type": "code",
   "execution_count": 74,
   "metadata": {},
   "outputs": [
    {
     "name": "stdout",
     "output_type": "stream",
     "text": [
      "                                                       city          province  \\\n",
      "order_date customer_id product_id order_id                                      \n",
      "2019-01-01 18055       P0648      1612339   Jakarta Selatan       DKI Jakarta   \n",
      "                       P3826      1612339   Jakarta Selatan       DKI Jakarta   \n",
      "                       P1508      1612339   Jakarta Selatan       DKI Jakarta   \n",
      "                       P0520      1612339   Jakarta Selatan       DKI Jakarta   \n",
      "                       P1513      1612339   Jakarta Selatan       DKI Jakarta   \n",
      "...                                                     ...               ...   \n",
      "           12681       P3388      1612390          Makassar  Sulawesi Selatan   \n",
      "                       P3082      1612390          Makassar  Sulawesi Selatan   \n",
      "                       P3354      1612390          Makassar  Sulawesi Selatan   \n",
      "                       P3357      1612390          Makassar  Sulawesi Selatan   \n",
      "                       P0422      1612390          Makassar  Sulawesi Selatan   \n",
      "\n",
      "                                              brand  quantity  item_price  \n",
      "order_date customer_id product_id order_id                                 \n",
      "2019-01-01 18055       P0648      1612339   BRAND_C         4     1934000  \n",
      "                       P3826      1612339   BRAND_V         8      604000  \n",
      "                       P1508      1612339   BRAND_G        12      747000  \n",
      "                       P0520      1612339   BRAND_B        12      450000  \n",
      "                       P1513      1612339   BRAND_G         3     1500000  \n",
      "...                                             ...       ...         ...  \n",
      "           12681       P3388      1612390   BRAND_S        10      450000  \n",
      "                       P3082      1612390   BRAND_R        18     1045000  \n",
      "                       P3354      1612390   BRAND_S        24      450000  \n",
      "                       P3357      1612390   BRAND_S        24      450000  \n",
      "                       P0422      1612390   BRAND_B         4     1325000  \n",
      "\n",
      "[101 rows x 5 columns]\n",
      "Index df_x: MultiIndex([('2019-01-01', 18055, 'P0648', 1612339),\n",
      "            ('2019-01-01', 18055, 'P3826', 1612339),\n",
      "            ('2019-01-01', 18055, 'P1508', 1612339),\n",
      "            ('2019-01-01', 18055, 'P0520', 1612339),\n",
      "            ('2019-01-01', 18055, 'P1513', 1612339),\n",
      "            ('2019-01-01', 18055, 'P3911', 1612339),\n",
      "            ('2019-01-01', 18055, 'P1780', 1612339),\n",
      "            ('2019-01-01', 18055, 'P3132', 1612339),\n",
      "            ('2019-01-01', 18055, 'P1342', 1612339),\n",
      "            ('2019-01-01', 18055, 'P2556', 1612339),\n",
      "            ...\n",
      "            ('2019-01-01', 17228, 'P0535', 1612387),\n",
      "            ('2019-01-01', 17228, 'P0029', 1612387),\n",
      "            ('2019-01-01', 17228, 'P3362', 1612387),\n",
      "            ('2019-01-01', 17228, 'P3409', 1612387),\n",
      "            ('2019-01-01', 12681, 'P1867', 1612390),\n",
      "            ('2019-01-01', 12681, 'P3388', 1612390),\n",
      "            ('2019-01-01', 12681, 'P3082', 1612390),\n",
      "            ('2019-01-01', 12681, 'P3354', 1612390),\n",
      "            ('2019-01-01', 12681, 'P3357', 1612390),\n",
      "            ('2019-01-01', 12681, 'P0422', 1612390)],\n",
      "           names=['order_date', 'customer_id', 'product_id', 'order_id'], length=101)\n"
     ]
    }
   ],
   "source": [
    "import pandas as pd\n",
    "df = pd.read_csv(\"sample_tsv.tsv\", sep=\"\\t\")\n",
    "df_x = df.set_index(['order_date', 'customer_id', 'product_id', 'order_id']) # multi index (.set_index)\n",
    "print(df_x)\n",
    "print(\"Index df_x:\", df_x.index)  # melihat multi index yg telah diset"
   ]
  },
  {
   "cell_type": "code",
   "execution_count": 75,
   "metadata": {},
   "outputs": [
    {
     "name": "stdout",
     "output_type": "stream",
     "text": [
      "order_date : Index(['2019-01-01'], dtype='object', name='order_date')\n",
      "city : Index(['Bogor', 'Jakarta Pusat', 'Jakarta Selatan', 'Jakarta Utara',\n",
      "       'Makassar', 'Malang', 'Surabaya', 'Tangerang'],\n",
      "      dtype='object', name='city')\n",
      "customer_id : Int64Index([12681, 13963, 15649, 17091, 17228, 17450, 17470, 17511, 17616,\n",
      "            18055],\n",
      "           dtype='int64', name='customer_id')\n"
     ]
    }
   ],
   "source": [
    "import pandas as pd\n",
    "# Baca file TSV sample_tsv.tsv\n",
    "df = pd.read_csv(\"https://dqlab-dataset.s3-ap-southeast-1.amazonaws.com/sample_tsv.tsv\", sep=\"\\t\")\n",
    "# Set multi index df\n",
    "df_x = df.set_index(['order_date', 'city', 'customer_id'])\n",
    "# Print nama dan level dari multi index\n",
    "for name, level in zip(df_x.index.names, df_x.index.levels):\n",
    "    print(name,':',level)"
   ]
  },
  {
   "cell_type": "code",
   "execution_count": null,
   "metadata": {},
   "outputs": [],
   "source": [
    "TEST"
   ]
  },
  {
   "cell_type": "code",
   "execution_count": 77,
   "metadata": {},
   "outputs": [
    {
     "name": "stdout",
     "output_type": "stream",
     "text": [
      "order_date : Index(['2019-01-01'], dtype='object', name='order_date')\n",
      "city : Index(['Bogor', 'Jakarta Pusat', 'Jakarta Selatan', 'Jakarta Utara',\n",
      "       'Makassar', 'Malang', 'Surabaya', 'Tangerang'],\n",
      "      dtype='object', name='city')\n",
      "customer_id : Int64Index([12681, 13963, 15649, 17091, 17228, 17450, 17470, 17511, 17616,\n",
      "            18055],\n",
      "           dtype='int64', name='customer_id')\n"
     ]
    }
   ],
   "source": [
    "import pandas as pd\n",
    "# Baca file TSV sample_tsv.tsv\n",
    "df = pd.read_csv(\"https://dqlab-dataset.s3-ap-southeast-1.amazonaws.com/sample_tsv.tsv\", sep=\"\\t\")\n",
    "# Set multi index df\n",
    "df_x = df.set_index(['order_date', 'city', 'customer_id'])\n",
    "# Print nama dan level dari multi index\n",
    "for name, level in zip(df_x.index.names, df_x.index.levels):\n",
    "    print(name,':',level)"
   ]
  },
  {
   "cell_type": "code",
   "execution_count": null,
   "metadata": {},
   "outputs": [],
   "source": []
  }
 ],
 "metadata": {
  "kernelspec": {
   "display_name": "Python 3",
   "language": "python",
   "name": "python3"
  },
  "language_info": {
   "codemirror_mode": {
    "name": "ipython",
    "version": 3
   },
   "file_extension": ".py",
   "mimetype": "text/x-python",
   "name": "python",
   "nbconvert_exporter": "python",
   "pygments_lexer": "ipython3",
   "version": "3.7.6"
  }
 },
 "nbformat": 4,
 "nbformat_minor": 4
}
