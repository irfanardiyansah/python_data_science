{
 "cells": [
  {
   "cell_type": "code",
   "execution_count": 14,
   "metadata": {},
   "outputs": [
    {
     "name": "stdout",
     "output_type": "stream",
     "text": [
      "      order_id  order_date  customer_id             city     province  \\\n",
      "0      1703458  17/10/2019        14004  Jakarta Selatan  DKI Jakarta   \n",
      "1      1706815  24/10/2019        17220  Jakarta Selatan  DKI Jakarta   \n",
      "2      1710718  03/11/2019        16518    Jakarta Utara  DKI Jakarta   \n",
      "3      1683592  19/08/2019        16364    Jakarta Barat  DKI Jakarta   \n",
      "4      1702573  16/10/2019        15696    Jakarta Timur  DKI Jakarta   \n",
      "...        ...         ...          ...              ...          ...   \n",
      "4995   1724011  01/12/2019        12838        Tangerang       Banten   \n",
      "4996   1676302  28/07/2019        13833            Bogor   Jawa Barat   \n",
      "4997   1706071  23/10/2019        16332    Jakarta Timur  DKI Jakarta   \n",
      "4998   1703620  17/10/2019        13055    Jakarta Barat  DKI Jakarta   \n",
      "4999   1720036  24/11/2019        17609    Jakarta Pusat  DKI Jakarta   \n",
      "\n",
      "     product_id    brand  quantity  item_price  \n",
      "0         P1910  BRAND_J      10.0    740000.0  \n",
      "1         P2934  BRAND_R       2.0    604000.0  \n",
      "2         P0908  BRAND_C       8.0   1045000.0  \n",
      "3         P0128  BRAND_A       4.0    205000.0  \n",
      "4         P2968  BRAND_R       2.0         NaN  \n",
      "...         ...      ...       ...         ...  \n",
      "4995      P3047  BRAND_R       2.0    450000.0  \n",
      "4996      P0760  BRAND_C       3.0   1465000.0  \n",
      "4997      P1681  BRAND_H       4.0    747000.0  \n",
      "4998      P0757  BRAND_C       8.0    695000.0  \n",
      "4999      P3334  BRAND_S       1.0   1045000.0  \n",
      "\n",
      "[5000 rows x 9 columns]\n"
     ]
    }
   ],
   "source": [
    "''' Data Profiling : kegiatan merangkum dataset menggunakan statistic deskritif.\n",
    "Tujuan : utk memiliki pemahaman yg kuat tentang data sehingga dapat mulai\n",
    "menyusun framework analisa dan menvisualisasikan data\n",
    "'''\n",
    "\n",
    "import pandas as pd\n",
    "import numpy as np\n",
    "import io\n",
    "retail_raw = pd.read_csv(\"retail_raw_reduced_data_quality.csv\")\n",
    "print(retail_raw)"
   ]
  },
  {
   "cell_type": "code",
   "execution_count": 8,
   "metadata": {},
   "outputs": [
    {
     "name": "stdout",
     "output_type": "stream",
     "text": [
      "order_id         int64\n",
      "order_date      object\n",
      "customer_id      int64\n",
      "city            object\n",
      "province        object\n",
      "product_id      object\n",
      "brand           object\n",
      "quantity       float64\n",
      "item_price     float64\n",
      "dtype: object\n"
     ]
    }
   ],
   "source": [
    "print(retail_raw.dtypes)  # .dtypes : cek tipe data disetiap kolom"
   ]
  },
  {
   "cell_type": "code",
   "execution_count": 26,
   "metadata": {},
   "outputs": [
    {
     "name": "stdout",
     "output_type": "stream",
     "text": [
      "Lenght kolom city: 5000\n",
      "Length kolom product_id: 5000\n"
     ]
    }
   ],
   "source": [
    "# Deskriptif Statistic : \n",
    "# len - menghitung jumlah kolom (termasuk nilai null)\n",
    "\n",
    "length_city = len(retail_raw[\"city\"])      # kolom city\n",
    "print(\"Lenght kolom city:\", length_city)\n",
    "\n",
    "length_product_id = len(retail_raw[\"product_id\"])      # kolom product_id\n",
    "print(\"Length kolom product_id:\",length_product_id)"
   ]
  },
  {
   "cell_type": "code",
   "execution_count": 30,
   "metadata": {},
   "outputs": [
    {
     "name": "stdout",
     "output_type": "stream",
     "text": [
      "Count kolom count_city: 4984\n",
      "Count kolom count_product_id: 4989\n"
     ]
    }
   ],
   "source": [
    "# count : menghitung jumlah pengamatan non-NA / non-null dalam suatu series / column.\n",
    "# Fungsi len - hanya menghitung elemen dari kolom yang mempunyai nilai (exclude missing value).\n",
    "\n",
    "count_city = retail_raw[\"city\"].count()\n",
    "print(\"Count kolom count_city:\", count_city)\n",
    "\n",
    "count_product_id = retail_raw[\"product_id\"].count()\n",
    "print(\"Count kolom count_product_id:\", count_product_id)"
   ]
  },
  {
   "cell_type": "code",
   "execution_count": 34,
   "metadata": {},
   "outputs": [
    {
     "name": "stdout",
     "output_type": "stream",
     "text": [
      "Presentase missing value kolom city 0.3%\n",
      "Presentase missing values kolom product_id 0.2%\n"
     ]
    }
   ],
   "source": [
    "# missing value : menghitung jumlah missing value (Jumlah nilai yang hilang adalah perbedaan antara Length dan Count)\n",
    "\n",
    "number_of_missing_value_city = length_city - count_city\n",
    "float_of_missing_values_city = float(number_of_missing_value_city/length_city)\n",
    "pct_of_missing_values_city = '{0:.1F}%'.format(float_of_missing_values_city * 100)\n",
    "print('Presentase missing value kolom city', pct_of_missing_values_city)\n",
    "\n",
    "number_ms_product_id = length_product_id - count_product_id\n",
    "float_ms_product_id = float(number_ms_product_id/length_city)\n",
    "pct_ms_product_id = '{0:.1F}%'.format(float_ms_product_id * 100)\n",
    "print('Presentase missing values kolom product_id', pct_ms_product_id)\n"
   ]
  },
  {
   "cell_type": "code",
   "execution_count": 37,
   "metadata": {},
   "outputs": [
    {
     "name": "stdout",
     "output_type": "stream",
     "text": [
      "Kolom quantity\n",
      "Minimum Value:  1.0\n",
      "Maximum Value:  720.0\n",
      "Mean Value:  11.423987164059366\n",
      "Media Value:  5.0\n",
      "Modus Value:  0    1.0\n",
      "dtype: float64\n",
      "Standard Deviasi Value:  29.442025010811317\n"
     ]
    }
   ],
   "source": [
    "# Maximum, Minimum, Mean, Media, Modus dan Standar Deviasi\n",
    "\n",
    "print('Kolom quantity')\n",
    "print('Minimum Value: ', retail_raw['quantity'].min())\n",
    "print('Maximum Value: ', retail_raw['quantity'].max())\n",
    "print('Mean Value: ', retail_raw['quantity'].mean())\n",
    "print('Media Value: ', retail_raw['quantity'].median())\n",
    "print('Modus Value: ', retail_raw['quantity'].mode())\n",
    "print('Standard Deviasi Value: ', retail_raw['quantity'].std())"
   ]
  },
  {
   "cell_type": "code",
   "execution_count": 39,
   "metadata": {},
   "outputs": [
    {
     "name": "stdout",
     "output_type": "stream",
     "text": [
      "Kolom item_price\n",
      "Minimum Value:  26000.0\n",
      "Maximum Value:  29762000.0\n",
      "Mean Value:  933742.7311008623\n",
      "Media Value:  604000.0\n",
      "Modus Value:  0    590000.0\n",
      "dtype: float64\n",
      "Standard Deviasi Value:  1030829.8104242863\n"
     ]
    }
   ],
   "source": [
    "print('Kolom item_price')\n",
    "print('Minimum Value: ', retail_raw['item_price'].min())\n",
    "print('Maximum Value: ', retail_raw['item_price'].max())\n",
    "print('Mean Value: ', retail_raw['item_price'].mean())\n",
    "print('Media Value: ', retail_raw['item_price'].median())\n",
    "print('Modus Value: ', retail_raw['item_price'].mode())\n",
    "print('Standard Deviasi Value: ', retail_raw['item_price'].std())"
   ]
  },
  {
   "cell_type": "code",
   "execution_count": 40,
   "metadata": {},
   "outputs": [
    {
     "name": "stdout",
     "output_type": "stream",
     "text": [
      "0.25     2.0\n",
      "0.50     5.0\n",
      "0.75    12.0\n",
      "Name: quantity, dtype: float64\n"
     ]
    }
   ],
   "source": [
    "# quantile : titik potong yang membagi distribusi dalam ukuran yang sama (kuartile jika dibagi 4 group, percentile jika dibagi 10 group)\n",
    "\n",
    "print(retail_raw['quantity'].quantile([0.25, 0.5, 0.75]))  # kolom quantity"
   ]
  },
  {
   "cell_type": "code",
   "execution_count": 41,
   "metadata": {},
   "outputs": [
    {
     "name": "stdout",
     "output_type": "stream",
     "text": [
      "0.25     450000.0\n",
      "0.50     604000.0\n",
      "0.75    1045000.0\n",
      "Name: item_price, dtype: float64\n"
     ]
    }
   ],
   "source": [
    "print(retail_raw['item_price'].quantile([0.25, 0.5, 0.75]))  # kolom item_price"
   ]
  },
  {
   "cell_type": "code",
   "execution_count": 43,
   "metadata": {},
   "outputs": [
    {
     "data": {
      "text/html": [
       "<div>\n",
       "<style scoped>\n",
       "    .dataframe tbody tr th:only-of-type {\n",
       "        vertical-align: middle;\n",
       "    }\n",
       "\n",
       "    .dataframe tbody tr th {\n",
       "        vertical-align: top;\n",
       "    }\n",
       "\n",
       "    .dataframe thead th {\n",
       "        text-align: right;\n",
       "    }\n",
       "</style>\n",
       "<table border=\"1\" class=\"dataframe\">\n",
       "  <thead>\n",
       "    <tr style=\"text-align: right;\">\n",
       "      <th></th>\n",
       "      <th>quantity</th>\n",
       "      <th>item_price</th>\n",
       "    </tr>\n",
       "  </thead>\n",
       "  <tbody>\n",
       "    <tr>\n",
       "      <th>quantity</th>\n",
       "      <td>1.000000</td>\n",
       "      <td>-0.133936</td>\n",
       "    </tr>\n",
       "    <tr>\n",
       "      <th>item_price</th>\n",
       "      <td>-0.133936</td>\n",
       "      <td>1.000000</td>\n",
       "    </tr>\n",
       "  </tbody>\n",
       "</table>\n",
       "</div>"
      ],
      "text/plain": [
       "            quantity  item_price\n",
       "quantity    1.000000   -0.133936\n",
       "item_price -0.133936    1.000000"
      ]
     },
     "execution_count": 43,
     "metadata": {},
     "output_type": "execute_result"
    }
   ],
   "source": [
    "# corr : korelasi - cara yg tepat untuk menemukan hubungan antaran variabel numerik\n",
    "'''\n",
    "Koefisien korelasi berkisar antara -1 hingga 1.\n",
    "Korelasi 1 adalah korelasi positif total,\n",
    "korelasi -1 adalah korelasi negatif total dan korelasi 0 adalah korelasi non-linear\n",
    "'''\n",
    "\n",
    "retail_raw[[\"quantity\", \"item_price\"]].corr()  # korelasi antaran quantity dengan item_price"
   ]
  },
  {
   "cell_type": "code",
   "execution_count": null,
   "metadata": {},
   "outputs": [],
   "source": [
    "''' Data Cleasing : proses mengidentifikasi bagian data yang salah,\n",
    "tidak lengkap, tidak akurat, tidak relevan/hilang, dan kemudian memodifikasi\n",
    "mengganti atau menghapusnya sesuai dengan kebutuhan'''"
   ]
  },
  {
   "cell_type": "code",
   "execution_count": null,
   "metadata": {},
   "outputs": [],
   "source": [
    "# missing data\n",
    "'''cara treatment terhadap missing-value antara lain:\n",
    "Leave as it is (dibiarkan)\n",
    "Filling the missing value (imputasi)\n",
    "Drop them (hapus row yang mengandung missing value)'''\n",
    "\n",
    "'''Imputasi merupakan suatu metode treatment terhadap missing value dengan mengisinya menggunakan teknik tertentu.\n",
    "Bisa menggunakan mean, modus ataupun menggunakan predictive modelling.\n",
    "Pada modul ini akan membahas mengenai pemanfaatan function fillna dari Pandas untuk imputasi ini,\n",
    "'''"
   ]
  },
  {
   "cell_type": "code",
   "execution_count": 69,
   "metadata": {},
   "outputs": [
    {
     "name": "stdout",
     "output_type": "stream",
     "text": [
      "\n",
      "order_id       False\n",
      "order_date     False\n",
      "customer_id    False\n",
      "city            True\n",
      "province        True\n",
      "product_id      True\n",
      "brand          False\n",
      "quantity        True\n",
      "item_price      True\n",
      "dtype: bool\n",
      "\n",
      "0       10.0\n",
      "1        2.0\n",
      "2        8.0\n",
      "3        4.0\n",
      "4        2.0\n",
      "        ... \n",
      "4995     2.0\n",
      "4996     3.0\n",
      "4997     4.0\n",
      "4998     8.0\n",
      "4999     1.0\n",
      "Name: quantity, Length: 5000, dtype: float64\n",
      "\n",
      "0       10.0\n",
      "1        2.0\n",
      "2        8.0\n",
      "3        4.0\n",
      "4        2.0\n",
      "        ... \n",
      "4995     2.0\n",
      "4996     3.0\n",
      "4997     4.0\n",
      "4998     8.0\n",
      "4999     1.0\n",
      "Name: quantity, Length: 4986, dtype: float64\n"
     ]
    }
   ],
   "source": [
    "# Chech kolom yang memiliki missing data\n",
    "print('')\n",
    "print(retail_raw.isnull().any())\n",
    "\n",
    "# filling the missing value  - imputasi mv pd kolom quantity dgn menggunakan nilai mean\n",
    "print('')\n",
    "print(retail_raw['quantity'].fillna(retail_raw['quantity'].mean()))\n",
    "\n",
    "# Drop Missing Value\n",
    "print('')\n",
    "print(retail_raw['quantity'].dropna())"
   ]
  },
  {
   "cell_type": "code",
   "execution_count": 73,
   "metadata": {},
   "outputs": [
    {
     "name": "stdout",
     "output_type": "stream",
     "text": [
      "0       7.400000e+05\n",
      "1       6.040000e+05\n",
      "2       1.045000e+06\n",
      "3       2.050000e+05\n",
      "4       9.337427e+05\n",
      "            ...     \n",
      "4995    4.500000e+05\n",
      "4996    1.465000e+06\n",
      "4997    7.470000e+05\n",
      "4998    6.950000e+05\n",
      "4999    1.045000e+06\n",
      "Name: item_price, Length: 5000, dtype: float64\n"
     ]
    }
   ],
   "source": [
    "print(retail_raw['item_price'].fillna(retail_raw['item_price'].mean()))  # melengkapi missing value dengan mean dari item_price. Berikut caraya:"
   ]
  },
  {
   "cell_type": "code",
   "execution_count": 95,
   "metadata": {},
   "outputs": [
    {
     "name": "stdout",
     "output_type": "stream",
     "text": [
      "Shape awal:  (5000, 9)\n",
      "Shape akhir:  (4699, 9)\n"
     ]
    }
   ],
   "source": [
    "# outlier \n",
    "\n",
    "# Q1, Q3, dan IQR\n",
    "Q1 = retail_raw['quantity'].quantile(0.25)\n",
    "Q3 = retail_raw['quantity'].quantile(0.75)\n",
    "IQR = Q3 - Q1\n",
    "\n",
    "# Check ukuran (baris dan kolom) sebelum data yang outliers dibuang\n",
    "print('Shape awal: ', retail_raw.shape)\n",
    "\n",
    "# Removing outliers\n",
    "retail_raw = retail_raw[~((retail_raw['quantity'] < (Q1 - 1.5 * IQR)) | (retail_raw['quantity'] > (Q3 + 1.5 * IQR)))]\n",
    "    \n",
    "\n",
    "# Check ukuran (baris dan kolom) setelah data yang outliers dibuang\n",
    "print('Shape akhir: ', retail_raw.shape)"
   ]
  },
  {
   "cell_type": "code",
   "execution_count": 96,
   "metadata": {},
   "outputs": [
    {
     "name": "stdout",
     "output_type": "stream",
     "text": [
      "Shape awal:  (4699, 9)\n",
      "Shape akhir:  (4379, 9)\n"
     ]
    }
   ],
   "source": [
    "# Q1, Q3, dan IQR\n",
    "Q1 = retail_raw['item_price'].quantile(0.25)\n",
    "Q3 = retail_raw['item_price'].quantile(0.75)\n",
    "IQR = Q3 - Q1\n",
    "\n",
    "# Check ukuran (baris dan kolom) sebelum data yang outliers dibuang\n",
    "print('Shape awal: ', retail_raw.shape)\n",
    "\n",
    "# Removing outliers\n",
    "retail_raw = retail_raw[~((retail_raw['item_price'] < (Q1 - 1.5 * IQR)) | (retail_raw['item_price'] > (Q3 + 1.5 * IQR)))]\n",
    "\n",
    "# Check ukuran (baris dan kolom) setelah data yang outliers dibuang\n",
    "print('Shape akhir: ', retail_raw.shape)"
   ]
  },
  {
   "cell_type": "code",
   "execution_count": 101,
   "metadata": {},
   "outputs": [
    {
     "name": "stdout",
     "output_type": "stream",
     "text": [
      "Shape Akhir:  (4373, 9)\n"
     ]
    }
   ],
   "source": [
    "# Duplikasi Data  :\n",
    "'''data dengan kondisi pada row-row tertentu memiliki kesamaan data di seluruh kolomnya.\n",
    "Tentunya ada data yang duplikat dalam dataset yang dimiliki.\n",
    "Kondisi duplikasi harus diatasi dengan jalan mengeliminir baris yang mengalami duplikasi,\n",
    "sehingga proses ini dikenal dengan deduplikasi'''\n",
    "\n",
    "#retail_raw.duplicated(subset=None)  # mencek duplikasi data\n",
    "#retail_raw.drop_duplicates(inplace=True)        # membuang duplikasi\n",
    "\n",
    "#buang data yg duplikat\n",
    "retail_raw.drop_duplicates(inplace=True)\n",
    "print('Shape Akhir: ', retail_raw.shape)"
   ]
  },
  {
   "cell_type": "code",
   "execution_count": 116,
   "metadata": {},
   "outputs": [
    {
     "name": "stdout",
     "output_type": "stream",
     "text": [
      "Lima data teratas:\n",
      "   InvoiceNo                          Description  Quantity     InvoiceDate  \\\n",
      "0     536365   WHITE HANGING HEART T-LIGHT HOLDER       6.0  12/01/10 08.26   \n",
      "1     536366                  WHITE METAL LANTERN       6.0  12/01/10 08.26   \n",
      "2     536367       CREAM CUPID HEARTS COAT HANGER       8.0  12/01/10 08.26   \n",
      "3     536368  KNITTED UNION FLAG HOT WATER BOTTLE       6.0  12/01/10 08.26   \n",
      "4     536369       RED WOOLLY HOTTIE WHITE HEART.       6.0  12/01/10 08.26   \n",
      "\n",
      "   UnitPrice  CustomerID      City  \n",
      "0      29000       17850  Surabaya  \n",
      "1      41000       17850  Surabaya  \n",
      "2      18000       17850  Surabaya  \n",
      "3      38000       17850   Jakarta  \n",
      "4      27000       17850     Medan  \n",
      "\n",
      "Kolom dengan missing value:\n",
      "InvoiceNo      False\n",
      "Description    False\n",
      "Quantity        True\n",
      "InvoiceDate    False\n",
      "UnitPrice      False\n",
      "CustomerID     False\n",
      "City           False\n",
      "dtype: bool\n",
      "Persentase missing value kolom Quantity: 4.0%\n"
     ]
    }
   ],
   "source": [
    "'''Import dataset csv ke variable bernama uncleaned_raw\n",
    "Inspeksi dataframe uncleaned_raw\n",
    "Check kolom yang mengandung missing value, jika ada, kolom apakah itu dan berapa persen missing value pada kolom tersebut?\n",
    "Mengisi missing value tersebut dengan mean dari kolom tersebut!\n",
    "'''\n",
    "\n",
    "# Baca dataset uncleaned_raw.csv\n",
    "uncleaned_raw = pd.read_csv('https://storage.googleapis.com/dqlab-dataset/uncleaned_raw.csv')\n",
    "\n",
    "#inspeksi dataframe uncleaned_raw\n",
    "print('Lima data teratas:') \n",
    "print(uncleaned_raw.head())\n",
    "\n",
    "#Check kolom yang mengandung missing value\n",
    "print('\\nKolom dengan missing value:') \n",
    "print(uncleaned_raw.isnull().any())\n",
    "\n",
    "#Persentase missing value\n",
    "length_qty = len(uncleaned_raw['Quantity'])\n",
    "count_qty = uncleaned_raw['Quantity'].count()\n",
    "\n",
    "#mengurangi length dengan count\n",
    "number_of_missing_values_qty = length_qty - count_qty\n",
    "\n",
    "#mengubah ke bentuk float\n",
    "float_of_missing_values_qty = float(number_of_missing_values_qty / length_qty) \n",
    "\n",
    "#mengubah ke dalam bentuk persen\n",
    "pct_of_missing_values_qty = '{0:.1f}%'.format(float_of_missing_values_qty * 100) \n",
    "\n",
    "#print hasil percent dari missing value\n",
    "print('Persentase missing value kolom Quantity:', pct_of_missing_values_qty)\n",
    "\n",
    "#Mengisi missing value tersebut dengan mean dari kolom tersebut\n",
    "uncleaned_raw['Quantity'] = uncleaned_raw['Quantity'].fillna(uncleaned_raw['Quantity'].mean())"
   ]
  },
  {
   "cell_type": "code",
   "execution_count": 4,
   "metadata": {},
   "outputs": [
    {
     "data": {
      "image/png": "[encoded data removed]",
      "text/plain": [
       "<Figure size 432x288 with 1 Axes>"
      ]
     },
     "metadata": {
      "needs_background": "light"
     },
     "output_type": "display_data"
    }
   ],
   "source": [
    "import matplotlib.pyplot as plt\n",
    "uncleaned_raw = pd.read_csv('https://storage.googleapis.com/dqlab-dataset/uncleaned_raw.csv')\n",
    "\n",
    "#Mengetahui kolom yang memiliki outliers!\n",
    "uncleaned_raw.boxplot()\n",
    "plt.show()"
   ]
  },
  {
   "cell_type": "code",
   "execution_count": null,
   "metadata": {},
   "outputs": [],
   "source": [
    "Langkah selanjutnya bisa dilakukan dengan cara berikut:\n",
    "\n",
    "Melakukan proses removing outliers pada kolom UnitPrice.\n",
    "Checking duplikasi and melakukan deduplikasi dataset tersebut!"
   ]
  },
  {
   "cell_type": "code",
   "execution_count": 6,
   "metadata": {},
   "outputs": [
    {
     "name": "stdout",
     "output_type": "stream",
     "text": [
      "0      False\n",
      "1      False\n",
      "2      False\n",
      "3      False\n",
      "4      False\n",
      "       ...  \n",
      "500     True\n",
      "501     True\n",
      "502     True\n",
      "503     True\n",
      "504     True\n",
      "Length: 505, dtype: bool\n"
     ]
    }
   ],
   "source": [
    "#Check IQR\n",
    "Q1 = uncleaned_raw['UnitPrice'].quantile(0.25)\n",
    "Q3 = uncleaned_raw['UnitPrice'].quantile(0.75)\n",
    "IQR = Q3 - Q1\n",
    "\n",
    "#removing outliers\n",
    "uncleaned_raw = uncleaned_raw[~((uncleaned_raw[['UnitPrice']] < (Q1 - 1.5 * IQR)) | (uncleaned_raw[['UnitPrice']] > (Q3 + 1.5 * IQR)))]\n",
    "\n",
    "#check for duplication\n",
    "print(uncleaned_raw.duplicated(subset=None))\n",
    "\n",
    "#remove duplication\n",
    "uncleaned_raw = uncleaned_raw.drop_duplicates()"
   ]
  },
  {
   "cell_type": "code",
   "execution_count": null,
   "metadata": {},
   "outputs": [],
   "source": []
  }
 ],
 "metadata": {
  "kernelspec": {
   "display_name": "Python 3",
   "language": "python",
   "name": "python3"
  },
  "language_info": {
   "codemirror_mode": {
    "name": "ipython",
    "version": 3
   },
   "file_extension": ".py",
   "mimetype": "text/x-python",
   "name": "python",
   "nbconvert_exporter": "python",
   "pygments_lexer": "ipython3",
   "version": "3.7.6"
  }
 },
 "nbformat": 4,
 "nbformat_minor": 4
}
