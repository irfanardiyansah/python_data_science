{
 "cells": [
  {
   "cell_type": "code",
   "execution_count": 1,
   "metadata": {},
   "outputs": [
    {
     "name": "stdout",
     "output_type": "stream",
     "text": [
      "Hello World\n",
      "Saya Aksara, Baru Belajar Python\n"
     ]
    }
   ],
   "source": [
    "print(\"Hello World\")\n",
    "print(\"Saya Aksara, Baru Belajar Python\")"
   ]
  },
  {
   "cell_type": "code",
   "execution_count": 12,
   "metadata": {},
   "outputs": [
    {
     "name": "stdout",
     "output_type": "stream",
     "text": [
      "10\n",
      "20\n",
      "Halo Dunia\n",
      "30\n",
      "Selamat Pagi\n",
      "Salam Sejahtera\n"
     ]
    }
   ],
   "source": [
    "bil1 = 10\n",
    "Bil_2 = 20\n",
    "Frasa = \"Halo Dunia\"\n",
    "bil1, Bil_2 = 10, 20\n",
    "salam = \"Selamat Pagi\";\n",
    "Penutup = \"Salam Sejahtera\"\n",
    "# untuk menulis single line comment\n",
    "'''\n",
    "komentar ini \n",
    "lebih dari 1 baris\n",
    "'''\n",
    "print(bil1)\n",
    "print(Bil_2)\n",
    "print(Frasa)\n",
    "print(bil1 + Bil_2)\n",
    "print(salam)\n",
    "print(Penutup)"
   ]
  },
  {
   "cell_type": "code",
   "execution_count": 18,
   "metadata": {},
   "outputs": [
    {
     "data": {
      "text/plain": [
       "5"
      ]
     },
     "execution_count": 18,
     "metadata": {},
     "output_type": "execute_result"
    }
   ],
   "source": [
    "int(6)"
   ]
  },
  {
   "cell_type": "code",
   "execution_count": 17,
   "metadata": {},
   "outputs": [
    {
     "data": {
      "text/plain": [
       "9.23"
      ]
     },
     "execution_count": 17,
     "metadata": {},
     "output_type": "execute_result"
    }
   ],
   "source": [
    "float(9.23)"
   ]
  },
  {
   "cell_type": "code",
   "execution_count": 19,
   "metadata": {},
   "outputs": [
    {
     "data": {
      "text/plain": [
       "True"
      ]
     },
     "execution_count": 19,
     "metadata": {},
     "output_type": "execute_result"
    }
   ],
   "source": [
    "bool(1)"
   ]
  },
  {
   "cell_type": "code",
   "execution_count": 28,
   "metadata": {},
   "outputs": [
    {
     "data": {
      "text/plain": [
       "'5.3'"
      ]
     },
     "execution_count": 28,
     "metadata": {},
     "output_type": "execute_result"
    }
   ],
   "source": [
    "# str : tipe data teks berupa huruf,angka, kata, kalimat diapit oleh ' atau \"\n",
    "str(5.3)"
   ]
  },
  {
   "cell_type": "code",
   "execution_count": 54,
   "metadata": {},
   "outputs": [
    {
     "data": {
      "text/plain": [
       "\"[1, 'buku']\""
      ]
     },
     "execution_count": 54,
     "metadata": {},
     "output_type": "execute_result"
    }
   ],
   "source": [
    "str([1,'buku'])"
   ]
  },
  {
   "cell_type": "code",
   "execution_count": 57,
   "metadata": {},
   "outputs": [
    {
     "data": {
      "text/plain": [
       "['B', 'U', 'u', 'k', 'u']"
      ]
     },
     "execution_count": 57,
     "metadata": {},
     "output_type": "execute_result"
    }
   ],
   "source": [
    "# list : urutan bilangan dan teks yg diapit kurung siku[] dipisahkan dgn koma,\n",
    "list(\"BUuku\")"
   ]
  },
  {
   "cell_type": "code",
   "execution_count": 32,
   "metadata": {},
   "outputs": [
    {
     "data": {
      "text/plain": [
       "[1, 2, 3]"
      ]
     },
     "execution_count": 32,
     "metadata": {},
     "output_type": "execute_result"
    }
   ],
   "source": [
    "list((1,2,3))"
   ]
  },
  {
   "cell_type": "code",
   "execution_count": 33,
   "metadata": {},
   "outputs": [
    {
     "data": {
      "text/plain": [
       "[1, 3, 6]"
      ]
     },
     "execution_count": 33,
     "metadata": {},
     "output_type": "execute_result"
    }
   ],
   "source": [
    "list({1,3,6,3})"
   ]
  },
  {
   "cell_type": "code",
   "execution_count": 52,
   "metadata": {},
   "outputs": [
    {
     "data": {
      "text/plain": [
       "('B', 'U', 'u', 'k', 'u')"
      ]
     },
     "execution_count": 52,
     "metadata": {},
     "output_type": "execute_result"
    }
   ],
   "source": [
    "# tuple : urutan bilangan dan teks yg diapit kurung biasa () dipisahkan dgn koma,\n",
    "tuple(\"BUuku\")"
   ]
  },
  {
   "cell_type": "code",
   "execution_count": 38,
   "metadata": {},
   "outputs": [
    {
     "data": {
      "text/plain": [
       "(1, 2, 3)"
      ]
     },
     "execution_count": 38,
     "metadata": {},
     "output_type": "execute_result"
    }
   ],
   "source": [
    "tuple((1,2,3))"
   ]
  },
  {
   "cell_type": "code",
   "execution_count": 51,
   "metadata": {},
   "outputs": [
    {
     "data": {
      "text/plain": [
       "(1, 3, 6)"
      ]
     },
     "execution_count": 51,
     "metadata": {},
     "output_type": "execute_result"
    }
   ],
   "source": [
    "tuple({1,3,6,3})"
   ]
  },
  {
   "cell_type": "code",
   "execution_count": 43,
   "metadata": {},
   "outputs": [
    {
     "data": {
      "text/plain": [
       "{'B', 'U', 'k', 'u'}"
      ]
     },
     "execution_count": 43,
     "metadata": {},
     "output_type": "execute_result"
    }
   ],
   "source": [
    "# set : urutan bilangan dan teks yg diapit oleh kurung biasa() dipisahkan dgn koma, dan setiap element bernilai unik\n",
    "set(\"BUuku\")"
   ]
  },
  {
   "cell_type": "code",
   "execution_count": 41,
   "metadata": {},
   "outputs": [
    {
     "data": {
      "text/plain": [
       "{1, 2, 3}"
      ]
     },
     "execution_count": 41,
     "metadata": {},
     "output_type": "execute_result"
    }
   ],
   "source": [
    "set((1,2,3))"
   ]
  },
  {
   "cell_type": "code",
   "execution_count": 49,
   "metadata": {},
   "outputs": [
    {
     "data": {
      "text/plain": [
       "{1, 2, 3, 5, 6}"
      ]
     },
     "execution_count": 49,
     "metadata": {},
     "output_type": "execute_result"
    }
   ],
   "source": [
    "set([1,3,6,3,3,5,2,5])"
   ]
  },
  {
   "cell_type": "code",
   "execution_count": 61,
   "metadata": {},
   "outputs": [
    {
     "name": "stdout",
     "output_type": "stream",
     "text": [
      "Belajar Python di DQLab\n",
      "['B', 'e', 'l', 'a', 'j', 'a', 'r', ' ', 'P', 'y', 't', 'h', 'o', 'n', ' ', 'd', 'i', ' ', 'D', 'Q', 'L', 'a', 'b']\n",
      "('B', 'e', 'l', 'a', 'j', 'a', 'r', ' ', 'P', 'y', 't', 'h', 'o', 'n', ' ', 'd', 'i', ' ', 'D', 'Q', 'L', 'a', 'b')\n",
      "{'i', 'h', 'd', 'y', 'P', ' ', 'D', 'b', 'o', 'B', 'l', 'a', 'e', 'r', 'j', 't', 'L', 'Q', 'n'}\n"
     ]
    }
   ],
   "source": [
    "text = \"Belajar Python di DQLab\"\n",
    "print(str(text))\n",
    "print(list(text))\n",
    "print(tuple(text))\n",
    "print(set(text))"
   ]
  },
  {
   "cell_type": "code",
   "execution_count": 62,
   "metadata": {},
   "outputs": [],
   "source": [
    "# Library Python\n",
    "import math\n",
    "import numpy as np\n",
    "import pandas as pd\n",
    "import seaborn as sns"
   ]
  },
  {
   "cell_type": "code",
   "execution_count": 63,
   "metadata": {},
   "outputs": [
    {
     "name": "stdout",
     "output_type": "stream",
     "text": [
      "25\n",
      "Academy DQLab\n"
     ]
    }
   ],
   "source": [
    "print(10*2+5)\n",
    "print(\"Academy DQLab\")"
   ]
  },
  {
   "cell_type": "code",
   "execution_count": 71,
   "metadata": {},
   "outputs": [
    {
     "name": "stdout",
     "output_type": "stream",
     "text": [
      "[1, 2, 3, 4, 5]\n",
      "['satu', 'dua', 'tiga']\n",
      "(1, 2, 3, 4, 5)\n",
      "('satu', 'dua', 'tiga')\n",
      "{'nama': 'Budi', 'umur': 25}\n",
      "{'nama': 'Andi', 'umur': 20}\n"
     ]
    },
    {
     "data": {
      "text/plain": [
       "dict"
      ]
     },
     "execution_count": 71,
     "metadata": {},
     "output_type": "execute_result"
    }
   ],
   "source": [
    "'''\n",
    "list ['xyz',785,2.32] : menyimpan berbagai tipe data dan isinya bisa diubah ubah\n",
    "tuple ('xyz',789,2.32) : menyimpan berbagai tipe data tapi isinya tidak bisa diubah\n",
    "dictionary {'nama':'irfan','id':'6'} :menyimpan berbagai tipe data berupa pasangan penunjuk dan nilai\n",
    "'''\n",
    "#tipe data list\n",
    "print([1,2,3,4,5,])\n",
    "print([\"satu\",\"dua\",\"tiga\",])\n",
    "\n",
    "#tipe data tuple\n",
    "print((1,2,3,4,5))\n",
    "print((\"satu\",\"dua\",\"tiga\"))\n",
    "\n",
    "#tipe data dictionary\n",
    "print({\"nama\":\"Budi\",'umur':25})\n",
    "\n",
    "biodata = {\"nama\":\"Andi\",\"umur\":20}\n",
    "print(biodata)\n",
    "\n",
    "#mengecek jenis tipe data\n",
    "type(biodata)"
   ]
  },
  {
   "cell_type": "code",
   "execution_count": 73,
   "metadata": {},
   "outputs": [
    {
     "name": "stdout",
     "output_type": "stream",
     "text": [
      "Belajar Python DQLab\n",
      "10\n",
      "3.14\n",
      "[1, 2, 3, 4]\n",
      "(1, 2, 3, 4)\n",
      "{'nama': 'Irfan', 'Umur': 25}\n"
     ]
    }
   ],
   "source": [
    "var_string = \"Belajar Python DQLab\"\n",
    "var_int = 10\n",
    "var_float = 3.14\n",
    "var_list = [1,2,3,4]\n",
    "var_tuple = (1,2,3,4)\n",
    "var_dic = {\"nama\":\"Irfan\", \"Umur\":25}\n",
    "\n",
    "print(var_string)\n",
    "print(var_int)\n",
    "print(var_float)\n",
    "print(var_list)\n",
    "print(var_tuple)\n",
    "print(var_dic)\n"
   ]
  },
  {
   "cell_type": "code",
   "execution_count": 118,
   "metadata": {},
   "outputs": [
    {
     "name": "stdout",
     "output_type": "stream",
     "text": [
      "ini adalah angka 10\n"
     ]
    }
   ],
   "source": [
    "# IF\n",
    "\n",
    "i = 10                             # variable i dgn nilai 10\n",
    "if(i==10):                         # pengecekan nilai i apakah sama dengan 10\n",
    "    print(\"ini adalah angka 10\")   # jika TRUE maka akan mencetak kalimat ini\n",
    "        "
   ]
  },
  {
   "cell_type": "code",
   "execution_count": 98,
   "metadata": {},
   "outputs": [],
   "source": [
    "i = 7\n",
    "if(i==10):\n",
    "    print(\"ini bukan angka 10\")\n",
    "''' maka tidak ada hasil, karena nilai 7 tidak memenuhi syarat\n",
    "kondisi dalam IF. Karena tidak ada kelanjutan perintah maka program\n",
    "dihentikan dan tidak mengeluarkan hasil apapun\n",
    "'''"
   ]
  },
  {
   "cell_type": "code",
   "execution_count": 116,
   "metadata": {},
   "outputs": [
    {
     "name": "stdout",
     "output_type": "stream",
     "text": [
      "ini adalah angka 10\n"
     ]
    }
   ],
   "source": [
    "#IF ... ELSE ...\n",
    "\n",
    "I = 10                           # Variable I \n",
    "if(I==10):                       # cek nilai I apakah sama dgn 10\n",
    "    print(\"ini adalah angka 10\") # Jika TRUE akan mencetak kalimat ini\n",
    "else:\n",
    "    print(\"bukan angka 10\")      # Jika False akan mencetak kalimat ini "
   ]
  },
  {
   "cell_type": "code",
   "execution_count": 119,
   "metadata": {},
   "outputs": [
    {
     "name": "stdout",
     "output_type": "stream",
     "text": [
      "bukan angka 10\n"
     ]
    }
   ],
   "source": [
    "I = 5                            \n",
    "if(I==10):                       \n",
    "    print(\"ini adalah angka 10\") \n",
    "else:\n",
    "    print(\"bukan angka 10\")"
   ]
  },
  {
   "cell_type": "code",
   "execution_count": 131,
   "metadata": {},
   "outputs": [
    {
     "name": "stdout",
     "output_type": "stream",
     "text": [
      "lebih besar dari 5\n"
     ]
    }
   ],
   "source": [
    "# IF ... ELIF ... ELSE ...\n",
    "\n",
    "b = 7\n",
    "if(b==5):\n",
    "    print(\"ini adalah angka 5\")\n",
    "elif(b>5):\n",
    "    print(\"lebih besar dari 5\")\n",
    "else:\n",
    "    print(\"lebih kecil dari 5\")"
   ]
  },
  {
   "cell_type": "code",
   "execution_count": 130,
   "metadata": {},
   "outputs": [
    {
     "name": "stdout",
     "output_type": "stream",
     "text": [
      "lebih kecil dari 5\n"
     ]
    }
   ],
   "source": [
    "c = 3\n",
    "if(c==5):\n",
    "    print(\"ini adalah angka 5\")\n",
    "elif(c>5):\n",
    "    print(\"lebih besar dari 5\")\n",
    "else:\n",
    "    print('lebih kecil dari 5')"
   ]
  },
  {
   "cell_type": "code",
   "execution_count": 137,
   "metadata": {},
   "outputs": [],
   "source": [
    "# NESTED IF : pengecekan bertingkat. pengecekan dilakukan lebih dari 1 statement di dalamnya\n",
    "\n",
    "i = 7\n",
    "if (i<7):\n",
    "    print(\"nilai 1 kurang dari 7\")\n",
    "    if (i<3):\n",
    "        print(\"nilai i kurang dari 7 dan kurang dari 3\")\n",
    "    else:\n",
    "        print(\"nilai i kurang dari 7 tapi lebih dari 3\")"
   ]
  },
  {
   "cell_type": "code",
   "execution_count": 172,
   "metadata": {},
   "outputs": [
    {
     "name": "stdout",
     "output_type": "stream",
     "text": [
      "Hasil penjumlahan a dan b adalah 15\n",
      "Selisih a dan b adalah : 5\n",
      "Hasil perkalian a dan b adalah 50\n",
      "Hasil pembagian a dan b adalah 2.0\n",
      "Hasil modulus 0\n"
     ]
    }
   ],
   "source": [
    "# Operator Matematika\n",
    "\n",
    "a = 10\n",
    "b = 5\n",
    "selisih = a-b\n",
    "jumlah = a+b\n",
    "kali = a*b\n",
    "bagi = a/b\n",
    "print(\"Hasil penjumlahan a dan b adalah\", jumlah)\n",
    "print(\"Selisih a dan b adalah :\", selisih)\n",
    "print(\"Hasil perkalian a dan b adalah\", kali)\n",
    "print(\"Hasil pembagian a dan b adalah\", bagi)\n",
    "\n",
    "# Operator Modulus\n",
    "\n",
    "c = 10\n",
    "d = 2\n",
    "modulus = c%d\n",
    "print(\"Hasil modulus\",modulus)"
   ]
  },
  {
   "cell_type": "code",
   "execution_count": 174,
   "metadata": {},
   "outputs": [
    {
     "name": "stdout",
     "output_type": "stream",
     "text": [
      "angka termasuk bilangan genap\n"
     ]
    }
   ],
   "source": [
    "angka = 10                                  # variable angka\n",
    "if(angka%2==0):                             # modulus 2 nilai 0\n",
    "    print(\"angka termasuk bilangan genap\")  # jika TRUE genap maka cetak \n",
    "else:\n",
    "    print(\"angka termasuk bilangan ganjil\") # jika FALSE ganjil maka cetak"
   ]
  },
  {
   "cell_type": "code",
   "execution_count": 183,
   "metadata": {},
   "outputs": [
    {
     "name": "stdout",
     "output_type": "stream",
     "text": [
      "ini adalah perulangan ke - 0\n",
      "ini adalah perulangan ke - 1\n",
      "ini adalah perulangan ke - 2\n",
      "ini adalah perulangan ke - 3\n",
      "ini adalah perulangan ke - 4\n",
      "ini adalah perulangan ke - 5\n"
     ]
    }
   ],
   "source": [
    "# Perulangan atau LOOPING ( WHILE, FOR )\n",
    "\n",
    "# WHILE\n",
    "\n",
    "J = 0                                      # variable J\n",
    "\n",
    "while J<6:                                 # ketika J kurang dari 6 lakukan perulangan, jika tdk stop perulangan\n",
    "    print(\"ini adalah perulangan ke -\", J) # lakukan perintah ini kerika perulangan\n",
    "    J=J+1                                  # setiap kali diakhiri perulangan update ini dengan ditambah 1"
   ]
  },
  {
   "cell_type": "code",
   "execution_count": 185,
   "metadata": {},
   "outputs": [
    {
     "name": "stdout",
     "output_type": "stream",
     "text": [
      "ini adalah perulangan ke - 1\n",
      "ini adalah perulangan ke - 2\n",
      "ini adalah perulangan ke - 3\n",
      "ini adalah perulangan ke - 4\n",
      "ini adalah perulangan ke - 5\n"
     ]
    }
   ],
   "source": [
    "# FOR\n",
    "\n",
    "for a in range (1,6):                      # perulangan for sbg inisialisasi dari angka 1 hingga angka yg lebih kecil dari 6\n",
    "    print(\"ini adalah perulangan ke -\", a) # perintah jika looping akan tetap berjalan"
   ]
  },
  {
   "cell_type": "code",
   "execution_count": 186,
   "metadata": {},
   "outputs": [
    {
     "name": "stdout",
     "output_type": "stream",
     "text": [
      "ini adalah element count : 1\n",
      "ini adalah element count : 2\n",
      "ini adalah element count : 3\n",
      "ini adalah element count : 4\n",
      "ini adalah element count : 5\n"
     ]
    }
   ],
   "source": [
    "count=[1,2,3,4,5]                               # element list\n",
    "for number in count:                            # looping utk menampilkan semua element pada count\n",
    "    print(\"ini adalah element count :\", number) # menampilkan element list pada count"
   ]
  },
  {
   "cell_type": "code",
   "execution_count": 190,
   "metadata": {},
   "outputs": [
    {
     "name": "stdout",
     "output_type": "stream",
     "text": [
      "Angka Genap 1\n",
      "Angka Ganjil 2\n",
      "Angka Genap 3\n",
      "Angka Ganjil 4\n",
      "Angka Genap 5\n",
      "Angka Ganjil 6\n",
      "Angka Genap 7\n",
      "Angka Ganjil 8\n",
      "Angka Genap 9\n",
      "Angka Ganjil 10\n"
     ]
    }
   ],
   "source": [
    "for i in range(1,11):\n",
    "    if(i%2==0):\n",
    "        print(\"Angka Ganjil\", i)\n",
    "    else:\n",
    "        print(\"Angka Genap\", i)"
   ]
  },
  {
   "cell_type": "code",
   "execution_count": 207,
   "metadata": {},
   "outputs": [
    {
     "name": "stdout",
     "output_type": "stream",
     "text": [
      "Hello, Selamat Pagi\n",
      "Luas Segitiga: 12.000000\n",
      "Luas segitiga: 12\n"
     ]
    }
   ],
   "source": [
    "# FUNGSI atau FUNCTION (def)\n",
    "\n",
    "# def\n",
    "\n",
    "def salam():                     # nama function salam\n",
    "    print(\"Hello, Selamat Pagi\") # isi function\n",
    "salam()                          # panggil function\n",
    "\n",
    "# Parameter pada Function\n",
    "\n",
    "def luas_segitiga(alas, tinggi):       # alas,tinggi sebagai parameter yg masuk\n",
    "    luas = (alas*tinggi)/2\n",
    "    print(\"Luas Segitiga: %f\" % luas); # isi parameter\n",
    "luas_segitiga(4,6)                     # panggil function, 4 dan 6 utk di input ke luas segitiga\n",
    "\n",
    "# Function dengan Return Value\n",
    "\n",
    "def luas_segitiga(alas, tinggi):\n",
    "    luas = (alas*tinggi)/2\n",
    "    return luas                                 # pengembalian nilai\n",
    "print(\"Luas segitiga: %d\" % luas_segitiga(4,6)) # pemanggilan fungsi\n",
    "                                                # 4 dan 6 merupakan parameter yg diinput kedalam fungsi luas segitiga\n"
   ]
  },
  {
   "cell_type": "code",
   "execution_count": 212,
   "metadata": {},
   "outputs": [
    {
     "name": "stdout",
     "output_type": "stream",
     "text": [
      "Nilai pi adalah : 3.141592653589793\n",
      "Nilai pi adalah : 3.141592653589793\n",
      "Nilai pi adalah 3.141592653589793\n",
      "Nilai e adalah : 2.718281828459045\n"
     ]
    }
   ],
   "source": [
    "# Import package dan menggunakan modul\n",
    "\n",
    "import math\n",
    "print(\"Nilai pi adalah :\", math.pi) # math.pi merupakan sintak untuk memanggil fungsi\n",
    "\n",
    "# Import dengan module alias\n",
    "\n",
    "import math as m\n",
    "print(\"Nilai pi adalah :\", m.pi)\n",
    "      \n",
    "# Import sebagian fungsi\n",
    "\n",
    "from math import pi          # frome module_name import function name\n",
    "print(\"Nilai pi adalah\", pi)\n",
    "\n",
    "# Import semua isi Module\n",
    "\n",
    "from math import *           # * disini menunjukan semua fungsi diimport ke dalam code\n",
    "print(\"Nilai e adalah :\", e)"
   ]
  },
  {
   "cell_type": "code",
   "execution_count": 218,
   "metadata": {},
   "outputs": [
    {
     "name": "stdout",
     "output_type": "stream",
     "text": [
      "['day', 'outlook', 'temp', 'humidity', 'wind', 'play']\n",
      "['D1', 'Sunny', 'Hot', 'High', 'Weak', 'No']\n",
      "['D2', 'Sunny', 'Hot', 'High', 'Strong', 'No']\n",
      "['D3', 'Overcast', 'Hot', 'High', 'Weak', 'Yes']\n",
      "['D4', 'Rain', 'Mild', 'High', 'Weak', 'Yes']\n",
      "['D5', 'Rain', 'Cool', 'Normal', 'Weak', 'Yes']\n",
      "['D6', 'Rain', 'Cool', 'Normal', 'Strong', 'No']\n",
      "['D7', 'Overcast', 'Cool', 'Normal', 'Strong', 'Yes']\n",
      "['D8', 'Sunny', 'Mild', 'High', 'Weak', 'No']\n",
      "['D9', 'Sunny', 'Cool', 'Normal', 'Weak', 'Yes']\n",
      "['D10', 'Rain', 'Mild', 'Normal', 'Weak', 'Yes']\n",
      "['D11', 'Sunny', 'Mild', 'Normal', 'Strong', 'Yes']\n",
      "['D12', 'Overcast', 'Mild', 'High', 'Strong', 'Yes']\n",
      "['D13', 'Overcast', 'Hot', 'Normal', 'Weak', 'Yes']\n",
      "['D14', 'Rain', 'Mild', 'High', 'Strong', 'No']\n"
     ]
    }
   ],
   "source": [
    "# Membaca teks file CSV\n",
    "\n",
    "import csv\n",
    "f = open('play_tennis.csv', 'r')  #tentukan lokasi file, nama file, dan inisialisasi csv\n",
    "reader = csv.reader(f)\n",
    "\n",
    "\n",
    "for row in reader:                # membaca baris per baris\n",
    "     print (row)\n",
    "\n",
    "f.close()                          # menutup file csv"
   ]
  },
  {
   "cell_type": "code",
   "execution_count": 222,
   "metadata": {},
   "outputs": [
    {
     "name": "stdout",
     "output_type": "stream",
     "text": [
      "    day   outlook  temp humidity    wind play\n",
      "0    D1     Sunny   Hot     High    Weak   No\n",
      "1    D2     Sunny   Hot     High  Strong   No\n",
      "2    D3  Overcast   Hot     High    Weak  Yes\n",
      "3    D4      Rain  Mild     High    Weak  Yes\n",
      "4    D5      Rain  Cool   Normal    Weak  Yes\n",
      "5    D6      Rain  Cool   Normal  Strong   No\n",
      "6    D7  Overcast  Cool   Normal  Strong  Yes\n",
      "7    D8     Sunny  Mild     High    Weak   No\n",
      "8    D9     Sunny  Cool   Normal    Weak  Yes\n",
      "9   D10      Rain  Mild   Normal    Weak  Yes\n",
      "10  D11     Sunny  Mild   Normal  Strong  Yes\n",
      "11  D12  Overcast  Mild     High  Strong  Yes\n",
      "12  D13  Overcast   Hot   Normal    Weak  Yes\n",
      "13  D14      Rain  Mild     High  Strong   No\n"
     ]
    }
   ],
   "source": [
    "# Membaca file csv dengan menggunakan Pandas\n",
    "\n",
    "import pandas as pd                    \n",
    "table = pd.read_csv('play_tennis.csv') # membaca file csv\n",
    "table.head()                                               \n",
    "print(table)"
   ]
  },
  {
   "cell_type": "code",
   "execution_count": 232,
   "metadata": {
    "scrolled": true
   },
   "outputs": [
    {
     "data": {
      "image/png": "[encoded data removed]",
      "text/plain": [
       "<Figure size 432x288 with 1 Axes>"
      ]
     },
     "metadata": {
      "needs_background": "light"
     },
     "output_type": "display_data"
    }
   ],
   "source": [
    "import pandas as pd\n",
    "import numpy as np\n",
    "import matplotlib.pyplot as plt\n",
    "\n",
    "\n",
    "table = pd.read_csv('dkikepadatankelurahan2013.csv')\n",
    "table.head()\n",
    "\n",
    "x_label = table['NAMA KELURAHAN']\n",
    "plt.bar(x=np.arange(len(x_label)),height=table['35-39 Laki-Laki'])\n",
    "plt.xlabel('Keluarahan di Jakarta Pusat')                          # label X\n",
    "plt.ylabel('Jumlah Penduduk Laki-Laki')                            # label Y\n",
    "plt.title('Persebaran Jumlah Penduduk Laki-Laki di Jakarta Pusat') # Judul\n",
    "plt.show()"
   ]
  },
  {
   "cell_type": "code",
   "execution_count": 9,
   "metadata": {},
   "outputs": [
    {
     "name": "stdout",
     "output_type": "stream",
     "text": [
      "    day   outlook  temp humidity    wind play\n",
      "0    D1     Sunny   Hot     High    Weak   No\n",
      "1    D2     Sunny   Hot     High  Strong   No\n",
      "2    D3  Overcast   Hot     High    Weak  Yes\n",
      "3    D4      Rain  Mild     High    Weak  Yes\n",
      "4    D5      Rain  Cool   Normal    Weak  Yes\n",
      "5    D6      Rain  Cool   Normal  Strong   No\n",
      "6    D7  Overcast  Cool   Normal  Strong  Yes\n",
      "7    D8     Sunny  Mild     High    Weak   No\n",
      "8    D9     Sunny  Cool   Normal    Weak  Yes\n",
      "9   D10      Rain  Mild   Normal    Weak  Yes\n",
      "10  D11     Sunny  Mild   Normal  Strong  Yes\n",
      "11  D12  Overcast  Mild     High  Strong  Yes\n",
      "12  D13  Overcast   Hot   Normal    Weak  Yes\n",
      "13  D14      Rain  Mild     High  Strong   No\n"
     ]
    }
   ],
   "source": [
    "# Membaca file dengan menggunakan pandas\n",
    "\n",
    "import pandas as pd\n",
    "csv_data = pd.read_csv('play_tennis.csv')\n",
    "print(csv_data)\n"
   ]
  },
  {
   "cell_type": "code",
   "execution_count": 21,
   "metadata": {},
   "outputs": [
    {
     "name": "stdout",
     "output_type": "stream",
     "text": [
      "  day   outlook  temp humidity    wind play\n",
      "0  D1     Sunny   Hot     High    Weak   No\n",
      "1  D2     Sunny   Hot     High  Strong   No\n",
      "2  D3  Overcast   Hot     High    Weak  Yes\n",
      "3  D4      Rain  Mild     High    Weak  Yes\n",
      "4  D5      Rain  Cool   Normal    Weak  Yes\n",
      "=======\n",
      "Index(['day', 'outlook', 'temp', 'humidity', 'wind', 'play'], dtype='object')\n"
     ]
    }
   ],
   "source": [
    "# menampilkan data secara sebagian 5 nomor\n",
    "\n",
    "import pandas as pd\n",
    "csv_data = pd.read_csv('play_tennis.csv')\n",
    "print(csv_data.head()) \n",
    "print(\"=======\")\n",
    "print(csv_data.columns) # untuk mengetahui nama nama kolom yg ada"
   ]
  },
  {
   "cell_type": "code",
   "execution_count": 22,
   "metadata": {},
   "outputs": [
    {
     "name": "stdout",
     "output_type": "stream",
     "text": [
      "0      D1\n",
      "1      D2\n",
      "2      D3\n",
      "3      D4\n",
      "4      D5\n",
      "5      D6\n",
      "6      D7\n",
      "7      D8\n",
      "8      D9\n",
      "9     D10\n",
      "10    D11\n",
      "11    D12\n",
      "12    D13\n",
      "13    D14\n",
      "Name: day, dtype: object\n"
     ]
    }
   ],
   "source": [
    "# melakukan akses data kolom\n",
    "\n",
    "import pandas as pd\n",
    "csv_data = pd.read_csv('play_tennis.csv')\n",
    "print(csv_data['day'])"
   ]
  },
  {
   "cell_type": "code",
   "execution_count": 35,
   "metadata": {},
   "outputs": [
    {
     "name": "stdout",
     "output_type": "stream",
     "text": [
      "  kode_Jabatan  Gaji_pokok\n",
      "0         J001    10000000\n",
      "1         J002     8000000\n",
      "2         J003     5000000\n",
      "3         J004     3000000\n",
      "====\n",
      "kode_Jabatan       J003\n",
      "Gaji_pokok      5000000\n",
      "Name: 2, dtype: object\n"
     ]
    }
   ],
   "source": [
    "# melakukan akses data melalui baris\n",
    "\n",
    "import pandas as pd\n",
    "csv_data = pd.read_csv('gaji.csv')\n",
    "print(csv_data)\n",
    "print(\"====\")\n",
    "print(csv_data.iloc[2])  #index baris 2"
   ]
  },
  {
   "cell_type": "code",
   "execution_count": 42,
   "metadata": {},
   "outputs": [
    {
     "name": "stdout",
     "output_type": "stream",
     "text": [
      "J003\n",
      "Tampilan dataset gaji :\n",
      "  kode_Jabatan  Gaji_pokok\n",
      "0         J001    10000000\n",
      "1         J002     8000000\n"
     ]
    }
   ],
   "source": [
    "# menampilkan suatu data dari baris dan kolom tertentu\n",
    "\n",
    "import pandas as pd\n",
    "csv_data = pd.read_csv('gaji.csv')\n",
    "print(csv_data['kode_Jabatan'].iloc[2])\n",
    "print(\"Tampilan dataset gaji :\")          # mencari kode_Jabatan di baris baris ke 2\n",
    "print(csv_data.head(2))                 # menampilkan 2 nomer index 0,1"
   ]
  },
  {
   "cell_type": "code",
   "execution_count": 44,
   "metadata": {},
   "outputs": [
    {
     "name": "stdout",
     "output_type": "stream",
     "text": [
      "Menampilkan data ke 1 sampai kurang dari 3 : \n",
      "1    J002\n",
      "2    J003\n",
      "Name: kode_Jabatan, dtype: object\n"
     ]
    }
   ],
   "source": [
    "# menampilkan data dengan range tertentu\n",
    "\n",
    "import pandas as pd\n",
    "csv_data = pd.read_csv('gaji.csv')\n",
    "print(\"Menampilkan data ke 1 sampai kurang dari 3 : \")\n",
    "print(csv_data['kode_Jabatan'].iloc[1:3])"
   ]
  },
  {
   "cell_type": "code",
   "execution_count": 54,
   "metadata": {},
   "outputs": [
    {
     "name": "stdout",
     "output_type": "stream",
     "text": [
      "       kode_Jabatan    Gaji_pokok\n",
      "count             4  4.000000e+00\n",
      "unique            4           NaN\n",
      "top            J003           NaN\n",
      "freq              1           NaN\n",
      "mean            NaN  6.500000e+06\n",
      "std             NaN  3.109126e+06\n",
      "min             NaN  3.000000e+06\n",
      "25%             NaN  4.500000e+06\n",
      "50%             NaN  6.500000e+06\n",
      "75%             NaN  8.500000e+06\n",
      "max             NaN  1.000000e+07\n",
      "==========================\n",
      "         Gaji_pokok\n",
      "count  4.000000e+00\n",
      "mean   6.500000e+06\n",
      "std    3.109126e+06\n",
      "min    3.000000e+06\n",
      "25%    4.500000e+06\n",
      "50%    6.500000e+06\n",
      "75%    8.500000e+06\n",
      "max    1.000000e+07\n"
     ]
    }
   ],
   "source": [
    "# menampilkan informasi statistic dengan numpy\n",
    "\n",
    "import pandas as pd\n",
    "csv_data = pd.read_csv('gaji.csv')\n",
    "print(csv_data.describe(include='all')) # describe-untuk mengetahui informasi statistik dari suatu dataset secara cepat\n",
    "print(\"==========================\")\n",
    "print(csv_data.describe(exclude=['O'])) # exclude=['O']-akan mengabaikan data non-numerical utk diproses"
   ]
  },
  {
   "cell_type": "code",
   "execution_count": null,
   "metadata": {},
   "outputs": [],
   "source": []
  }
 ],
 "metadata": {
  "kernelspec": {
   "display_name": "Python 3",
   "language": "python",
   "name": "python3"
  },
  "language_info": {
   "codemirror_mode": {
    "name": "ipython",
    "version": 3
   },
   "file_extension": ".py",
   "mimetype": "text/x-python",
   "name": "python",
   "nbconvert_exporter": "python",
   "pygments_lexer": "ipython3",
   "version": "3.7.6"
  }
 },
 "nbformat": 4,
 "nbformat_minor": 4
}
